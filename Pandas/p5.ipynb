{
 "cells": [
  {
   "cell_type": "code",
   "execution_count": 1,
   "id": "7aacf538-ced2-4aca-911c-4d2baf9aa977",
   "metadata": {},
   "outputs": [],
   "source": [
    "# Data Frame - это таблица с данными у которой есть именованный индекс"
   ]
  },
  {
   "cell_type": "code",
   "execution_count": 40,
   "id": "de051679-582b-4c07-9223-cdde3465d35b",
   "metadata": {},
   "outputs": [],
   "source": [
    "import numpy as np"
   ]
  },
  {
   "cell_type": "code",
   "execution_count": 41,
   "id": "65a89dfe-bd95-467e-8dfd-0ebcf08530fd",
   "metadata": {},
   "outputs": [],
   "source": [
    "import pandas as pd"
   ]
  },
  {
   "cell_type": "code",
   "execution_count": 42,
   "id": "fd36df33-191f-4ef5-b1f2-fb6458b8537d",
   "metadata": {},
   "outputs": [],
   "source": [
    "np.random.seed(101)"
   ]
  },
  {
   "cell_type": "code",
   "execution_count": 43,
   "id": "7d3be458-1448-47b9-8e5b-c39549e13832",
   "metadata": {},
   "outputs": [],
   "source": [
    "mydata = np.random.randint(0, 101, (4, 3))"
   ]
  },
  {
   "cell_type": "code",
   "execution_count": 44,
   "id": "ca2e12db-12d9-4bf7-831d-dd64e2206242",
   "metadata": {},
   "outputs": [
    {
     "data": {
      "text/plain": [
       "array([[95, 11, 81],\n",
       "       [70, 63, 87],\n",
       "       [75,  9, 77],\n",
       "       [40,  4, 63]])"
      ]
     },
     "execution_count": 44,
     "metadata": {},
     "output_type": "execute_result"
    }
   ],
   "source": [
    "mydata"
   ]
  },
  {
   "cell_type": "code",
   "execution_count": 45,
   "id": "978bd69c-93fe-4a7c-a444-4864be7994b2",
   "metadata": {},
   "outputs": [],
   "source": [
    "myindex = ['CA', 'NY', 'AZ', 'TX']"
   ]
  },
  {
   "cell_type": "code",
   "execution_count": 46,
   "id": "3d0a5fb2-0d1a-4fa8-97e5-35f0f51bbd63",
   "metadata": {},
   "outputs": [],
   "source": [
    "mycolumns = ['Jan', 'Feb', 'Mar']"
   ]
  },
  {
   "cell_type": "code",
   "execution_count": 47,
   "id": "7292ecf9-2ae1-44f7-9733-6b9a8be8add6",
   "metadata": {},
   "outputs": [],
   "source": [
    "df = pd.DataFrame(mydata, myindex, mycolumns)"
   ]
  },
  {
   "cell_type": "code",
   "execution_count": 48,
   "id": "8c77f279-bcbf-4f35-8f01-6345e9338a8f",
   "metadata": {
    "scrolled": true
   },
   "outputs": [
    {
     "data": {
      "text/html": [
       "<div>\n",
       "<style scoped>\n",
       "    .dataframe tbody tr th:only-of-type {\n",
       "        vertical-align: middle;\n",
       "    }\n",
       "\n",
       "    .dataframe tbody tr th {\n",
       "        vertical-align: top;\n",
       "    }\n",
       "\n",
       "    .dataframe thead th {\n",
       "        text-align: right;\n",
       "    }\n",
       "</style>\n",
       "<table border=\"1\" class=\"dataframe\">\n",
       "  <thead>\n",
       "    <tr style=\"text-align: right;\">\n",
       "      <th></th>\n",
       "      <th>Jan</th>\n",
       "      <th>Feb</th>\n",
       "      <th>Mar</th>\n",
       "    </tr>\n",
       "  </thead>\n",
       "  <tbody>\n",
       "    <tr>\n",
       "      <th>CA</th>\n",
       "      <td>95</td>\n",
       "      <td>11</td>\n",
       "      <td>81</td>\n",
       "    </tr>\n",
       "    <tr>\n",
       "      <th>NY</th>\n",
       "      <td>70</td>\n",
       "      <td>63</td>\n",
       "      <td>87</td>\n",
       "    </tr>\n",
       "    <tr>\n",
       "      <th>AZ</th>\n",
       "      <td>75</td>\n",
       "      <td>9</td>\n",
       "      <td>77</td>\n",
       "    </tr>\n",
       "    <tr>\n",
       "      <th>TX</th>\n",
       "      <td>40</td>\n",
       "      <td>4</td>\n",
       "      <td>63</td>\n",
       "    </tr>\n",
       "  </tbody>\n",
       "</table>\n",
       "</div>"
      ],
      "text/plain": [
       "    Jan  Feb  Mar\n",
       "CA   95   11   81\n",
       "NY   70   63   87\n",
       "AZ   75    9   77\n",
       "TX   40    4   63"
      ]
     },
     "execution_count": 48,
     "metadata": {},
     "output_type": "execute_result"
    }
   ],
   "source": [
    "df"
   ]
  },
  {
   "cell_type": "code",
   "execution_count": 49,
   "id": "f062c5c4-a200-430c-accc-a18dbcb2f2d8",
   "metadata": {},
   "outputs": [
    {
     "name": "stdout",
     "output_type": "stream",
     "text": [
      "<class 'pandas.core.frame.DataFrame'>\n",
      "Index: 4 entries, CA to TX\n",
      "Data columns (total 3 columns):\n",
      " #   Column  Non-Null Count  Dtype\n",
      "---  ------  --------------  -----\n",
      " 0   Jan     4 non-null      int64\n",
      " 1   Feb     4 non-null      int64\n",
      " 2   Mar     4 non-null      int64\n",
      "dtypes: int64(3)\n",
      "memory usage: 128.0+ bytes\n"
     ]
    }
   ],
   "source": [
    "df.info()"
   ]
  },
  {
   "cell_type": "code",
   "execution_count": 50,
   "id": "468beb36-a8a5-42ea-965f-bc5fc00b8862",
   "metadata": {},
   "outputs": [
    {
     "data": {
      "text/plain": [
       "'/home/rostya/AI_course/Pandas'"
      ]
     },
     "execution_count": 50,
     "metadata": {},
     "output_type": "execute_result"
    }
   ],
   "source": [
    "pwd  # Print working directory"
   ]
  },
  {
   "cell_type": "code",
   "execution_count": 51,
   "id": "bcaad6f4-25fb-4acc-b191-70c71db3f2d3",
   "metadata": {},
   "outputs": [
    {
     "name": "stdout",
     "output_type": "stream",
     "text": [
      "p4.ipynb  p5.ipynb\n"
     ]
    }
   ],
   "source": [
    "ls"
   ]
  },
  {
   "cell_type": "code",
   "execution_count": 52,
   "id": "3bcee29f-574e-4a15-b776-a63502f0f224",
   "metadata": {},
   "outputs": [
    {
     "name": "stdout",
     "output_type": "stream",
     "text": [
      "total 668\n",
      "drwxr-xr-x. 1 rostya rostya     68 Feb 11 13:24 \u001b[0m\u001b[01;34m.\u001b[0m/\n",
      "drwxr-xr-x. 1 rostya rostya    290 Feb 10 23:43 \u001b[01;34m..\u001b[0m/\n",
      "drwxr-xr-x. 1 rostya rostya     76 Feb 11 13:03 \u001b[01;34m.ipynb_checkpoints\u001b[0m/\n",
      "-rw-r--r--. 1 rostya rostya 671851 Feb 10 23:37 p4.ipynb\n",
      "-rw-r--r--. 1 rostya rostya   5834 Feb 11 13:24 p5.ipynb\n"
     ]
    }
   ],
   "source": [
    "ls -la"
   ]
  },
  {
   "cell_type": "code",
   "execution_count": null,
   "id": "e1759345-7096-4460-8b1c-30c6da9343e4",
   "metadata": {},
   "outputs": [],
   "source": []
  },
  {
   "cell_type": "code",
   "execution_count": null,
   "id": "89823c85-f1d6-47b1-8c7e-bfe4df2080a6",
   "metadata": {},
   "outputs": [],
   "source": []
  }
 ],
 "metadata": {
  "kernelspec": {
   "display_name": "Python 3 (ipykernel)",
   "language": "python",
   "name": "python3"
  },
  "language_info": {
   "codemirror_mode": {
    "name": "ipython",
    "version": 3
   },
   "file_extension": ".py",
   "mimetype": "text/x-python",
   "name": "python",
   "nbconvert_exporter": "python",
   "pygments_lexer": "ipython3",
   "version": "3.12.1"
  }
 },
 "nbformat": 4,
 "nbformat_minor": 5
}
