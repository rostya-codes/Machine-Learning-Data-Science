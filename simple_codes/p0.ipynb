{
 "cells": [
  {
   "cell_type": "code",
   "execution_count": 17,
   "id": "a09b3488-0033-4f48-a490-07a5d73098e1",
   "metadata": {},
   "outputs": [],
   "source": [
    "import pandas"
   ]
  },
  {
   "cell_type": "code",
   "execution_count": 18,
   "id": "8beb47b3-a337-4c30-92a1-0819608f9110",
   "metadata": {},
   "outputs": [
    {
     "data": {
      "text/plain": [
       "'1.5.3'"
      ]
     },
     "execution_count": 18,
     "metadata": {},
     "output_type": "execute_result"
    }
   ],
   "source": [
    "pandas.__version__"
   ]
  },
  {
   "cell_type": "code",
   "execution_count": 19,
   "id": "acb02057-407d-4320-9569-7006db60f398",
   "metadata": {},
   "outputs": [
    {
     "data": {
      "text/plain": [
       "2"
      ]
     },
     "execution_count": 19,
     "metadata": {},
     "output_type": "execute_result"
    }
   ],
   "source": [
    "def count_of_dogs(st):\n",
    "    \"\"\"Выводит количество собак в строке\"\"\"\n",
    "    count = 0\n",
    "    for word in st.lower().split():\n",
    "        if word == 'dog':\n",
    "            count += 1\n",
    "    return count\n",
    "\n",
    "count_of_dogs('dog hog pog log dog nog')"
   ]
  },
  {
   "cell_type": "code",
   "execution_count": 20,
   "id": "63925ba3-246b-4bb8-9f4b-3027df8ca381",
   "metadata": {},
   "outputs": [
    {
     "data": {
      "text/plain": [
       "'Маленький штраф'"
      ]
     },
     "execution_count": 20,
     "metadata": {},
     "output_type": "execute_result"
    }
   ],
   "source": [
    "def caught_speeding(speed, is_birthday):\n",
    "    if is_birthday:  # Учитываем влияние этого параметра\n",
    "        speeding = speed - 5\n",
    "    else:\n",
    "        speeding = speed\n",
    "    if speeding > 80:\n",
    "        return 'Большой штраф'\n",
    "    elif speeding > 60:\n",
    "        return 'Маленький штраф'\n",
    "    else:\n",
    "        return 'Нет штрафа'\n",
    "\n",
    "caught_speeding(82, True)"
   ]
  },
  {
   "cell_type": "code",
   "execution_count": null,
   "id": "e3f5c2ed-b156-400d-bf87-b0895913b9a0",
   "metadata": {},
   "outputs": [],
   "source": []
  }
 ],
 "metadata": {
  "kernelspec": {
   "display_name": "Python 3 (ipykernel)",
   "language": "python",
   "name": "python3"
  },
  "language_info": {
   "codemirror_mode": {
    "name": "ipython",
    "version": 3
   },
   "file_extension": ".py",
   "mimetype": "text/x-python",
   "name": "python",
   "nbconvert_exporter": "python",
   "pygments_lexer": "ipython3",
   "version": "3.12.1"
  }
 },
 "nbformat": 4,
 "nbformat_minor": 5
}
