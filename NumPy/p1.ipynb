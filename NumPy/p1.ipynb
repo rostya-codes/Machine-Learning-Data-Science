{
 "cells": [
  {
   "cell_type": "code",
   "execution_count": 1,
   "id": "2fe2b669-c7bd-4bcb-87df-bb46ff026599",
   "metadata": {},
   "outputs": [],
   "source": [
    "import numpy as np"
   ]
  },
  {
   "cell_type": "code",
   "execution_count": 2,
   "id": "6c8348f1-c278-43de-9f5c-bd3d6db8fdd7",
   "metadata": {},
   "outputs": [],
   "source": [
    "mylist = [1, 2, 3]"
   ]
  },
  {
   "cell_type": "code",
   "execution_count": 4,
   "id": "36c143cb-212d-4cca-bf46-b382252487f9",
   "metadata": {},
   "outputs": [
    {
     "data": {
      "text/plain": [
       "list"
      ]
     },
     "execution_count": 4,
     "metadata": {},
     "output_type": "execute_result"
    }
   ],
   "source": [
    "type(mylist)"
   ]
  },
  {
   "cell_type": "code",
   "execution_count": 5,
   "id": "fc0349c0-d287-4a14-a960-4e7fdbd3845f",
   "metadata": {},
   "outputs": [
    {
     "data": {
      "text/plain": [
       "array([1, 2, 3])"
      ]
     },
     "execution_count": 5,
     "metadata": {},
     "output_type": "execute_result"
    }
   ],
   "source": [
    "np.array(mylist)\n",
    "mylist"
   ]
  },
  {
   "cell_type": "code",
   "execution_count": 12,
   "id": "bcc7ed7d-0711-4c7d-a10e-a7eaa9d5a4d3",
   "metadata": {},
   "outputs": [],
   "source": [
    "myarr = np.array(mylist)\n",
    "myarr"
   ]
  },
  {
   "cell_type": "code",
   "execution_count": 10,
   "id": "e4d5760e-e0e9-433f-ae7a-a9f69b382d9e",
   "metadata": {},
   "outputs": [
    {
     "data": {
      "text/plain": [
       "numpy.ndarray"
      ]
     },
     "execution_count": 10,
     "metadata": {},
     "output_type": "execute_result"
    }
   ],
   "source": [
    "type(myarr)"
   ]
  },
  {
   "cell_type": "code",
   "execution_count": 13,
   "id": "080b8451-f819-4719-89e9-f725b49f687d",
   "metadata": {},
   "outputs": [
    {
     "data": {
      "text/plain": [
       "numpy.ndarray"
      ]
     },
     "execution_count": 13,
     "metadata": {},
     "output_type": "execute_result"
    }
   ],
   "source": [
    "type(myarr)"
   ]
  },
  {
   "cell_type": "code",
   "execution_count": 14,
   "id": "4c83c50c-25d6-4ec9-92db-e295ccd7ba83",
   "metadata": {},
   "outputs": [],
   "source": [
    "my_matrix = [[1, 2, 3], [4, 5, 6], [7, 8, 9]]\n",
    "my_matrix"
   ]
  },
  {
   "cell_type": "code",
   "execution_count": 16,
   "id": "8e7372f1-8d41-42f4-9bb2-066df1175c9d",
   "metadata": {},
   "outputs": [
    {
     "data": {
      "text/plain": [
       "array([[1, 2, 3],\n",
       "       [4, 5, 6],\n",
       "       [7, 8, 9]])"
      ]
     },
     "execution_count": 16,
     "metadata": {},
     "output_type": "execute_result"
    }
   ],
   "source": [
    "np.array(my_matrix)"
   ]
  },
  {
   "cell_type": "code",
   "execution_count": 20,
   "id": "0abbcf99-551e-4060-98be-eb47736c8251",
   "metadata": {},
   "outputs": [
    {
     "data": {
      "text/plain": [
       "array([  0,  20,  40,  60,  80, 100])"
      ]
     },
     "execution_count": 20,
     "metadata": {},
     "output_type": "execute_result"
    }
   ],
   "source": [
    "np.arange(0, 101, 20)"
   ]
  },
  {
   "cell_type": "code",
   "execution_count": 25,
   "id": "2acc7560-5433-434f-bc33-a811a63dfb3f",
   "metadata": {},
   "outputs": [
    {
     "data": {
      "text/plain": [
       "array([[0., 0., 0., 0., 0.],\n",
       "       [0., 0., 0., 0., 0.]])"
      ]
     },
     "execution_count": 25,
     "metadata": {},
     "output_type": "execute_result"
    }
   ],
   "source": [
    "np.zeros((2, 5))  # Первое число - это количество строк, а второе число это количество колонок"
   ]
  },
  {
   "cell_type": "code",
   "execution_count": 33,
   "id": "0bbcf723-0619-4eba-a295-80d672931019",
   "metadata": {},
   "outputs": [
    {
     "data": {
      "text/plain": [
       "array([1., 1., 1., 1., 1.])"
      ]
     },
     "execution_count": 33,
     "metadata": {},
     "output_type": "execute_result"
    }
   ],
   "source": [
    "np.ones((5))"
   ]
  },
  {
   "cell_type": "code",
   "execution_count": 41,
   "id": "7dfecc47-468d-4b6f-8a1b-c8e0ce7f917c",
   "metadata": {},
   "outputs": [],
   "source": [
    "lns = np.linspace(0, 5, 21)  # Получить равноотстающие числа в диапазоне, третье значение - это количество чисел(ВКЛЮЧИТЕЛЬНО)\n",
    "len(lns)"
   ]
  },
  {
   "cell_type": "code",
   "execution_count": 45,
   "id": "1dc9a964-e971-4633-88fa-f91e42ac3466",
   "metadata": {},
   "outputs": [
    {
     "data": {
      "text/plain": [
       "array([[1., 0., 0., 0., 0.],\n",
       "       [0., 1., 0., 0., 0.],\n",
       "       [0., 0., 1., 0., 0.],\n",
       "       [0., 0., 0., 1., 0.],\n",
       "       [0., 0., 0., 0., 1.]])"
      ]
     },
     "execution_count": 45,
     "metadata": {},
     "output_type": "execute_result"
    }
   ],
   "source": [
    "np.eye(5)  # На главной диагонали 1, остальные 0"
   ]
  },
  {
   "cell_type": "code",
   "execution_count": 57,
   "id": "4c231a16-d8d7-460a-8ba0-6d82e2a2a0b2",
   "metadata": {},
   "outputs": [
    {
     "data": {
      "text/plain": [
       "array([[0.81601055, 0.50891998],\n",
       "       [0.02498818, 0.05056117],\n",
       "       [0.18962478, 0.23932977],\n",
       "       [0.89258454, 0.97573694],\n",
       "       [0.03746783, 0.73479928]])"
      ]
     },
     "execution_count": 57,
     "metadata": {},
     "output_type": "execute_result"
    }
   ],
   "source": [
    "np.random.rand(5, 2)"
   ]
  },
  {
   "cell_type": "code",
   "execution_count": 60,
   "id": "51f70533-4190-40e7-8f38-851ab11654cc",
   "metadata": {},
   "outputs": [
    {
     "data": {
      "text/plain": [
       "array([[0.50754583, 1.28566612, 0.94490763],\n",
       "       [1.46562291, 1.69332459, 1.09884647]])"
      ]
     },
     "execution_count": 60,
     "metadata": {},
     "output_type": "execute_result"
    }
   ],
   "source": [
    "np.random.randn(2, 3)  # Чем ближе числа к нулю тем больше вероятность получить их"
   ]
  },
  {
   "cell_type": "code",
   "execution_count": 71,
   "id": "36067f0e-5f87-4798-a6e2-2dca2af9b634",
   "metadata": {},
   "outputs": [
    {
     "data": {
      "text/plain": [
       "array([[65, 67, 21, 33, 10],\n",
       "       [ 0, 15, 88, 32, 81],\n",
       "       [34, 67, 19, 78, 59],\n",
       "       [50, 14, 70,  3, 17]])"
      ]
     },
     "execution_count": 71,
     "metadata": {},
     "output_type": "execute_result"
    }
   ],
   "source": [
    "np.random.randint(0, 101, (4, 5))"
   ]
  },
  {
   "cell_type": "code",
   "execution_count": 82,
   "id": "24358ec7-c465-452a-9cbf-dcba34f634e6",
   "metadata": {},
   "outputs": [
    {
     "data": {
      "text/plain": [
       "array([0.51639863, 0.57066759, 0.02847423, 0.17152166])"
      ]
     },
     "execution_count": 82,
     "metadata": {},
     "output_type": "execute_result"
    }
   ],
   "source": [
    "np.random.seed(101)  # Воспроизводимый набор чисел (главное чтобы число было одним и тем же когда мы хотим воспроизвести результат)\n",
    "np.random.rand(4)  # Фиксированые результаты"
   ]
  },
  {
   "cell_type": "code",
   "execution_count": 84,
   "id": "147a2b0a-c597-4596-b7a6-a1bc1ad64a49",
   "metadata": {},
   "outputs": [
    {
     "data": {
      "text/plain": [
       "array([0.72154386, 0.18993895, 0.55422759, 0.35213195])"
      ]
     },
     "execution_count": 84,
     "metadata": {},
     "output_type": "execute_result"
    }
   ],
   "source": [
    "np.random.rand(4)  # Разные результаты"
   ]
  },
  {
   "cell_type": "code",
   "execution_count": 85,
   "id": "3347de3f-5ab6-4e48-aa2e-b41d54c85ae6",
   "metadata": {},
   "outputs": [],
   "source": [
    "arr = np.arange(0, 25)\n",
    "arr"
   ]
  },
  {
   "cell_type": "code",
   "execution_count": 87,
   "id": "cdaeb241-efb1-4a00-8c62-8774b0f76558",
   "metadata": {},
   "outputs": [
    {
     "data": {
      "text/plain": [
       "array([[ 0,  1,  2,  3,  4],\n",
       "       [ 5,  6,  7,  8,  9],\n",
       "       [10, 11, 12, 13, 14],\n",
       "       [15, 16, 17, 18, 19],\n",
       "       [20, 21, 22, 23, 24]])"
      ]
     },
     "execution_count": 87,
     "metadata": {},
     "output_type": "execute_result"
    }
   ],
   "source": [
    "arr.reshape(5, 5)  # Форматирование в матрицу 5х5, должны уместиться все елементы массива"
   ]
  },
  {
   "cell_type": "code",
   "execution_count": 88,
   "id": "d5c411db-a148-42cd-8740-a513bc7c696e",
   "metadata": {},
   "outputs": [],
   "source": [
    "ranarr = np.random.randint(0, 101, 10)\n",
    "ranarr"
   ]
  },
  {
   "cell_type": "code",
   "execution_count": 90,
   "id": "89bd3cd9-7fdb-431a-8805-8ac7d4592b5d",
   "metadata": {},
   "outputs": [
    {
     "data": {
      "text/plain": [
       "83"
      ]
     },
     "execution_count": 90,
     "metadata": {},
     "output_type": "execute_result"
    }
   ],
   "source": [
    "ranarr.max()"
   ]
  },
  {
   "cell_type": "code",
   "execution_count": 91,
   "id": "9f9a5c27-c315-475a-b287-3e83c25bdb75",
   "metadata": {},
   "outputs": [
    {
     "data": {
      "text/plain": [
       "8"
      ]
     },
     "execution_count": 91,
     "metadata": {},
     "output_type": "execute_result"
    }
   ],
   "source": [
    "ranarr.min()"
   ]
  },
  {
   "cell_type": "code",
   "execution_count": 92,
   "id": "b1cfdbf8-df16-458b-8515-09b9ffc4fffa",
   "metadata": {},
   "outputs": [
    {
     "data": {
      "text/plain": [
       "1"
      ]
     },
     "execution_count": 92,
     "metadata": {},
     "output_type": "execute_result"
    }
   ],
   "source": [
    "ranarr.argmax()  # Индекс максимального"
   ]
  },
  {
   "cell_type": "code",
   "execution_count": 94,
   "id": "259af189-f421-47ae-9674-ca2ac1ae495f",
   "metadata": {},
   "outputs": [
    {
     "data": {
      "text/plain": [
       "2"
      ]
     },
     "execution_count": 94,
     "metadata": {},
     "output_type": "execute_result"
    }
   ],
   "source": [
    "ranarr.argmin()  # Индекс минимального"
   ]
  },
  {
   "cell_type": "code",
   "execution_count": 96,
   "id": "b7f7e44b-17c0-4d6d-9782-527992786c04",
   "metadata": {},
   "outputs": [
    {
     "data": {
      "text/plain": [
       "dtype('int64')"
      ]
     },
     "execution_count": 96,
     "metadata": {},
     "output_type": "execute_result"
    }
   ],
   "source": [
    "ranarr.dtype  # Тип данных в массиве"
   ]
  },
  {
   "cell_type": "code",
   "execution_count": 98,
   "id": "7d62cc82-d6d9-4cc1-a8f6-3ae5711a1801",
   "metadata": {},
   "outputs": [
    {
     "data": {
      "text/plain": [
       "(25,)"
      ]
     },
     "execution_count": 98,
     "metadata": {},
     "output_type": "execute_result"
    }
   ],
   "source": [
    "arr.shape  # Это не метод, а атрибут"
   ]
  },
  {
   "cell_type": "code",
   "execution_count": 101,
   "id": "0a3a2872-34de-4536-8642-ef37272c7324",
   "metadata": {},
   "outputs": [
    {
     "data": {
      "text/plain": [
       "array([[ 0,  1,  2,  3,  4],\n",
       "       [ 5,  6,  7,  8,  9],\n",
       "       [10, 11, 12, 13, 14],\n",
       "       [15, 16, 17, 18, 19],\n",
       "       [20, 21, 22, 23, 24]])"
      ]
     },
     "execution_count": 101,
     "metadata": {},
     "output_type": "execute_result"
    }
   ],
   "source": [
    "arr = arr.reshape(5, 5)\n",
    "arr"
   ]
  },
  {
   "cell_type": "code",
   "execution_count": 102,
   "id": "1e0181d8-7b25-4973-bf3a-1aa5203ceef1",
   "metadata": {},
   "outputs": [
    {
     "data": {
      "text/plain": [
       "(5, 5)"
      ]
     },
     "execution_count": 102,
     "metadata": {},
     "output_type": "execute_result"
    }
   ],
   "source": [
    "arr.shape"
   ]
  },
  {
   "cell_type": "code",
   "execution_count": 104,
   "id": "85284a07-3c3d-42e1-b438-271d8b8ad775",
   "metadata": {},
   "outputs": [
    {
     "data": {
      "text/plain": [
       "array([[ 0,  1,  2,  3,  4,  5,  6,  7,  8,  9, 10, 11, 12, 13, 14, 15,\n",
       "        16, 17, 18, 19, 20, 21, 22, 23, 24]])"
      ]
     },
     "execution_count": 104,
     "metadata": {},
     "output_type": "execute_result"
    }
   ],
   "source": [
    "arr.reshape(1, 25)"
   ]
  }
 ],
 "metadata": {
  "kernelspec": {
   "display_name": "Python 3 (ipykernel)",
   "language": "python",
   "name": "python3"
  },
  "language_info": {
   "codemirror_mode": {
    "name": "ipython",
    "version": 3
   },
   "file_extension": ".py",
   "mimetype": "text/x-python",
   "name": "python",
   "nbconvert_exporter": "python",
   "pygments_lexer": "ipython3",
   "version": "3.12.1"
  }
 },
 "nbformat": 4,
 "nbformat_minor": 5
}
